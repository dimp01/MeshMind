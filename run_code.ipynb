{
  "nbformat": 4,
  "nbformat_minor": 0,
  "metadata": {
    "colab": {
      "provenance": [],
      "gpuType": "T4"
    },
    "kernelspec": {
      "name": "python3",
      "display_name": "Python 3"
    },
    "language_info": {
      "name": "python"
    },
    "accelerator": "GPU"
  },
  "cells": [
    {
      "cell_type": "markdown",
      "source": [
        "# 1️⃣ Clone MeshMind Repository\n",
        "This cell clones the MeshMind repository into Colab and navigates into it.  \n",
        "All subsequent setup steps will operate from this directory."
      ],
      "metadata": {
        "id": "tmzc-wB0Ndg9"
      }
    },
    {
      "cell_type": "code",
      "execution_count": null,
      "metadata": {
        "id": "Dgt-KRLgKvxR"
      },
      "outputs": [],
      "source": [
        "!git clone https://github.com/dimp01/MeshMind /content/MeshMind/\n",
        "%cd /content/MeshMind/\n",
        "!git pull"
      ]
    },
    {
      "cell_type": "markdown",
      "source": [
        "# 2️⃣ Install System Dependencies\n",
        "PyVista and VTK require OpenGL libraries and a virtual framebuffer for headless rendering.\n",
        "This cell installs the necessary Linux packages.\n"
      ],
      "metadata": {
        "id": "Ts0DOQ9kOVuQ"
      }
    },
    {
      "cell_type": "code",
      "source": [
        "!apt-get update\n",
        "!apt-get install -y libgl1 libglib2.0-0 xvfb mesa-utils"
      ],
      "metadata": {
        "id": "mMYxRFDIOXDe"
      },
      "execution_count": null,
      "outputs": []
    },
    {
      "cell_type": "markdown",
      "source": [
        "# 3️⃣ Install Python Dependencies\n",
        "Install all required Python packages from `requirements.txt`.  \n",
        "This includes Streamlit, PyTorch, diffusers, PyVista, stpyvista, and more.\n"
      ],
      "metadata": {
        "id": "xOYSOkVYObTZ"
      }
    },
    {
      "cell_type": "code",
      "source": [
        "!pip install --upgrade pip\n",
        "!pip install -r requirements.txt"
      ],
      "metadata": {
        "id": "zW8IH7keOdJN"
      },
      "execution_count": null,
      "outputs": []
    },
    {
      "cell_type": "markdown",
      "source": [
        "# 4️⃣ Run Setup\n",
        "If `.env` file does not exist, this cell runs `setup.py` to configure:\n",
        "- GEMINI_API_KEY\n",
        "- NGROK_AUTH_TOKEN\n",
        "\n",
        "This ensures the app has the required credentials."
      ],
      "metadata": {
        "id": "-iGF-ErmOfiM"
      }
    },
    {
      "cell_type": "code",
      "source": [
        "import os\n",
        "if not os.path.exists(\".env\"):\n",
        "    print(\"⚡ .env file not found. Running setup.py to create it.\")\n",
        "    !python setup.py\n",
        "else:\n",
        "    print(\"✅ .env file found. Skipping setup.py.\")"
      ],
      "metadata": {
        "id": "PmqaTKxGOjMJ"
      },
      "execution_count": null,
      "outputs": []
    },
    {
      "cell_type": "markdown",
      "source": [
        "# 5️⃣ Load Environment Variables\n",
        "Load `.env` file so the GEMINI_API_KEY and NGROK_AUTH_TOKEN are available in the environment."
      ],
      "metadata": {
        "id": "wMLCEBW6OmZX"
      }
    },
    {
      "cell_type": "code",
      "source": [
        "from dotenv import load_dotenv\n",
        "load_dotenv()  # Automatically sets os.environ"
      ],
      "metadata": {
        "id": "SDUPMg8fOoqO"
      },
      "execution_count": null,
      "outputs": []
    },
    {
      "cell_type": "markdown",
      "source": [
        "# 6️⃣ Configure PyVista for Headless Rendering\n",
        "PyVista requires off-screen rendering in Colab/Docker.  \n",
        "This prevents OpenGL errors when running Streamlit."
      ],
      "metadata": {
        "id": "iO0DSPMSOsIs"
      }
    },
    {
      "cell_type": "code",
      "source": [
        "import pyvista as pv\n",
        "pv.start_xvfb()  # off-screen rendering"
      ],
      "metadata": {
        "id": "IYjv-rtdOvdR"
      },
      "execution_count": null,
      "outputs": []
    },
    {
      "cell_type": "markdown",
      "source": [
        "# 7️⃣ Start Streamlit and ngrok\n",
        "This cell:\n",
        "1. Launches Streamlit in the background.\n",
        "2. Opens a public ngrok tunnel.\n",
        "3. Prints the public URL for accessing the app."
      ],
      "metadata": {
        "id": "Gcj2qIrcOyrN"
      }
    },
    {
      "cell_type": "code",
      "source": [
        "from pyngrok import ngrok\n",
        "import subprocess\n",
        "import time\n",
        "import os\n",
        "\n",
        "# Kill any previous tunnels\n",
        "ngrok.kill()\n",
        "\n",
        "port = 8501\n",
        "os.environ[\"STREAMLIT_SERVER_HEADLESS\"] = \"true\"\n",
        "\n",
        "# Launch Streamlit\n",
        "cmd = f\"streamlit run main.py --server.port {port} --server.headless true\"\n",
        "process = subprocess.Popen(cmd.split(), stdout=subprocess.PIPE, stderr=subprocess.PIPE)\n",
        "\n",
        "# Open ngrok tunnel\n",
        "public_url = ngrok.connect(port)\n",
        "print(\"🌐 Streamlit is running at:\", public_url)\n",
        "\n",
        "# Give Streamlit a few seconds to start\n",
        "time.sleep(5)"
      ],
      "metadata": {
        "id": "BjXkIasBO118"
      },
      "execution_count": null,
      "outputs": []
    },
    {
      "cell_type": "markdown",
      "source": [
        "# 8️⃣ Stop Streamlit and ngrok\n",
        "Use this cell to terminate all running Streamlit servers and ngrok tunnels.\n",
        "Useful for restarting the app or cleaning up resources."
      ],
      "metadata": {
        "id": "CBddHsmrO5xs"
      }
    },
    {
      "cell_type": "code",
      "source": [
        "from pyngrok import ngrok\n",
        "import os\n",
        "\n",
        "ngrok.kill()             # Close ngrok tunnels\n",
        "!pkill -f streamlit      # Kill all Streamlit processes\n",
        "print(\"✅ Streamlit + ngrok terminated.\")"
      ],
      "metadata": {
        "id": "jjl3Ms1yO8nS"
      },
      "execution_count": null,
      "outputs": []
    }
  ]
}
