{
  "cells": [
    {
      "cell_type": "markdown",
      "metadata": {
        "id": "tmzc-wB0Ndg9"
      },
      "source": [
        "# 1️⃣ Clone MeshMind Repository\n",
        "This cell clones the MeshMind repository into Colab and navigates into it.  \n",
        "All subsequent setup steps will operate from this directory."
      ]
    },
    {
      "cell_type": "code",
      "execution_count": null,
      "metadata": {
        "id": "Dgt-KRLgKvxR"
      },
      "outputs": [],
      "source": [
        "!git clone https://github.com/dimp01/MeshMind /content/MeshMind/\n",
        "%cd /content/MeshMind/"
      ]
    },
    {
      "cell_type": "markdown",
      "metadata": {
        "id": "Ts0DOQ9kOVuQ"
      },
      "source": [
        "# 2️⃣ Install System Dependencies\n",
        "PyVista and VTK require OpenGL libraries and a virtual framebuffer for headless rendering.\n",
        "This cell installs the necessary Linux packages.\n"
      ]
    },
    {
      "cell_type": "code",
      "execution_count": null,
      "metadata": {
        "id": "mMYxRFDIOXDe"
      },
      "outputs": [],
      "source": [
        "!apt-get update\n",
        "!apt-get install -y libgl1 libglib2.0-0 xvfb mesa-utils\n",
        "!apt-get install -y libosmesa6-dev\n",
        "!apt-get install -y xvfb"
      ]
    },
    {
      "cell_type": "markdown",
      "metadata": {
        "id": "xOYSOkVYObTZ"
      },
      "source": [
        "# 3️⃣ Install Python Dependencies\n",
        "Install all required Python packages from `requirements.txt`.  \n",
        "This includes Streamlit, PyTorch, diffusers, PyVista, stpyvista, and more.\n"
      ]
    },
    {
      "cell_type": "code",
      "execution_count": null,
      "metadata": {
        "id": "zW8IH7keOdJN"
      },
      "outputs": [],
      "source": [
        "!pip install --upgrade pip\n",
        "!pip install git+https://github.com/facebookresearch/pytorch3d.git@stable -vv\n",
        "!pip install -r requirements.txt"
      ]
    },
    {
      "cell_type": "markdown",
      "metadata": {
        "id": "-iGF-ErmOfiM"
      },
      "source": [
        "# 4️⃣ Run Setup\n",
        "If `.env` file does not exist, this cell runs `setup.py` to configure:\n",
        "- GEMINI_API_KEY\n",
        "- NGROK_AUTH_TOKEN\n",
        "\n",
        "This ensures the app has the required credentials."
      ]
    },
    {
      "cell_type": "code",
      "execution_count": null,
      "metadata": {
        "id": "PmqaTKxGOjMJ"
      },
      "outputs": [],
      "source": [
        "import os\n",
        "if not os.path.exists(\".env\"):\n",
        "    print(\"⚡ .env file not found. Running setup.py to create it.\")\n",
        "    !python setup.py\n",
        "else:\n",
        "    print(\"✅ .env file found. Skipping setup.py.\")"
      ]
    },
    {
      "cell_type": "markdown",
      "metadata": {
        "id": "wMLCEBW6OmZX"
      },
      "source": [
        "# 5️⃣ Load Environment Variables\n",
        "Load `.env` file so the GEMINI_API_KEY and NGROK_AUTH_TOKEN are available in the environment."
      ]
    },
    {
      "cell_type": "code",
      "execution_count": null,
      "metadata": {
        "id": "SDUPMg8fOoqO"
      },
      "outputs": [],
      "source": [
        "from dotenv import load_dotenv\n",
        "load_dotenv()  # Automatically sets os.environ"
      ]
    },
    {
      "cell_type": "markdown",
      "metadata": {
        "id": "iO0DSPMSOsIs"
      },
      "source": [
        "# 6️⃣ Configure PyVista for Headless Rendering\n",
        "PyVista requires off-screen rendering in Colab/Docker.  \n",
        "This prevents OpenGL errors when running Streamlit."
      ]
    },
    {
      "cell_type": "code",
      "execution_count": null,
      "metadata": {
        "id": "IYjv-rtdOvdR"
      },
      "outputs": [],
      "source": [
        "import pyvista as pv\n",
        "pv.start_xvfb()  # off-screen rendering"
      ]
    },
    {
      "cell_type": "markdown",
      "metadata": {
        "id": "Gcj2qIrcOyrN"
      },
      "source": [
        "# 7️⃣ Start Streamlit and ngrok\n",
        "This cell:\n",
        "1. Launches Streamlit in the background.\n",
        "2. Opens a public ngrok tunnel.\n",
        "3. Prints the public URL for accessing the app."
      ]
    },
    {
      "cell_type": "code",
      "execution_count": null,
      "metadata": {
        "id": "BjXkIasBO118"
      },
      "outputs": [],
      "source": [
        "from pyngrok import ngrok\n",
        "import time\n",
        "import os\n",
        "\n",
        "# Set your ngrok authtoken\n",
        "ngrok.set_auth_token(os.environ.get(\"NGROK_AUTH_TOKEN\"))\n",
        "ngrok.kill()\n",
        "\n",
        "# Train Model\n",
        "%run training/train.py\n",
        "\n",
        "port = 8501\n",
        "os.environ[\"STREAMLIT_SERVER_HEADLESS\"] = \"true\"\n",
        "\n",
        "# Open ngrok tunnel\n",
        "public_url = ngrok.connect(port)\n",
        "print(\"🌐 Streamlit is running at:\", public_url)\n",
        "\n",
        "# Launch Streamlit\n",
        "!streamlit run main.py --server.port {port} --server.headless true\n",
        "ngrok.kill()             # Close ngrok tunnels\n"
      ]
    },
    {
      "cell_type": "markdown",
      "metadata": {
        "id": "CBddHsmrO5xs"
      },
      "source": [
        "# 8️⃣ Pull Updates from Git Repo\n",
        "Use this cell to pull latest updates from git repo.\n",
        "Rerun all the cells of the notebook after updating."
      ]
    },
    {
      "cell_type": "code",
      "execution_count": null,
      "metadata": {
        "id": "jjl3Ms1yO8nS"
      },
      "outputs": [],
      "source": [
        "!git pull             # pull latest updates"
      ]
    }
  ],
  "metadata": {
    "accelerator": "GPU",
    "colab": {
      "gpuType": "T4",
      "provenance": []
    },
    "kernelspec": {
      "display_name": "Python 3",
      "name": "python3"
    },
    "language_info": {
      "name": "python"
    }
  },
  "nbformat": 4,
  "nbformat_minor": 0
}
